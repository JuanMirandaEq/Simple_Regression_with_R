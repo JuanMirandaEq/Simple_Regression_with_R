{
 "cells": [
  {
   "cell_type": "markdown",
   "id": "a6ce8869",
   "metadata": {},
   "source": [
    "# Simple Regression using R"
   ]
  },
  {
   "cell_type": "code",
   "execution_count": null,
   "id": "91c317a8",
   "metadata": {},
   "outputs": [],
   "source": [
    "# As a preliminary step, the required packages are installed."
   ]
  },
  {
   "cell_type": "code",
   "execution_count": null,
   "id": "f45213cd",
   "metadata": {},
   "outputs": [],
   "source": [
    "install.packages('gridExtra')\n",
    "install.packages('patchwork')\n",
    "#install.packages('moments')\n",
    "install.packages('fBasics')\n",
    "install.packages('lmtest')\n",
    "install.packages('whitestrap')\n",
    "install.packages('cumstats')"
   ]
  },
  {
   "cell_type": "code",
   "execution_count": null,
   "id": "3af44703",
   "metadata": {},
   "outputs": [],
   "source": [
    "# Next, import the libraries."
   ]
  },
  {
   "cell_type": "code",
   "execution_count": null,
   "id": "aec51eab",
   "metadata": {},
   "outputs": [],
   "source": [
    "library(dplyr)\n",
    "library(moments)\n",
    "library(fBasics)\n",
    "library(stats)\n",
    "library(lmtest)\n",
    "library(whitestrap)\n",
    "library(ggplot2)\n",
    "library(gridExtra)\n",
    "library(patchwork)\n",
    "library(cumstats)"
   ]
  },
  {
   "cell_type": "markdown",
   "id": "74cdc549",
   "metadata": {},
   "source": [
    "### 1. Importing the data set"
   ]
  },
  {
   "cell_type": "code",
   "execution_count": null,
   "id": "65e1a05a",
   "metadata": {},
   "outputs": [],
   "source": [
    "# Import the data set, which is online in this address:\n",
    "# https://raw.githubusercontent.com/JuanMirandaEq/deltacsvfiles/main/agefat.csv\n",
    "composition<-read.csv(\"https://raw.githubusercontent.com/JuanMirandaEq/deltacsvfiles/main/agefat.csv\")"
   ]
  },
  {
   "cell_type": "markdown",
   "id": "1d45189e",
   "metadata": {},
   "source": [
    "### 2. Preparing the data set "
   ]
  },
  {
   "cell_type": "markdown",
   "id": "2fdf6983",
   "metadata": {},
   "source": [
    "#### 2.1. Identifying data set variables"
   ]
  },
  {
   "cell_type": "code",
   "execution_count": null,
   "id": "3b3e6ff7",
   "metadata": {},
   "outputs": [],
   "source": [
    "# Identifying data set variables using the head function\n",
    "head(composition)"
   ]
  },
  {
   "cell_type": "markdown",
   "id": "55519594",
   "metadata": {},
   "source": [
    "#### 2.2. Dropping unnecesary columns"
   ]
  },
  {
   "cell_type": "code",
   "execution_count": null,
   "id": "f4a68f47",
   "metadata": {},
   "outputs": [],
   "source": [
    "# The library dplyr provides the function select to pick \n",
    "# or to drop columns. If the minus sign is placed \n",
    "# before the name of the column, it is dropped.\n",
    "# Below, the minus sign is placed before the name of the variables\n",
    "# X and sex to drop them.\n",
    "\n",
    "composition<-composition%>%\n",
    "  select(-X,-sex)"
   ]
  },
  {
   "cell_type": "code",
   "execution_count": null,
   "id": "e41273cb",
   "metadata": {},
   "outputs": [],
   "source": [
    "# The two variables were dropped, as can be seen in the \n",
    "# head of the data frame\n",
    "head(composition)"
   ]
  },
  {
   "cell_type": "markdown",
   "id": "c2b432e4",
   "metadata": {},
   "source": [
    "#### 2.3. Detecting missing values "
   ]
  },
  {
   "cell_type": "code",
   "execution_count": null,
   "id": "faa40f6a",
   "metadata": {},
   "outputs": [],
   "source": [
    "# The function isnan() returns TRUE if a value of a column  is equal to nan \n",
    "# In both columns, age and fat, there are no missing values.\n",
    "print('Column age:')\n",
    "is.nan(composition$age)"
   ]
  },
  {
   "cell_type": "code",
   "execution_count": null,
   "id": "bc5d29e6",
   "metadata": {},
   "outputs": [],
   "source": [
    "print('Column fat:')\n",
    "is.nan(composition$fat)"
   ]
  },
  {
   "cell_type": "markdown",
   "id": "49ca914d",
   "metadata": {},
   "source": [
    "#### 2.4. Detecting outliers"
   ]
  },
  {
   "cell_type": "code",
   "execution_count": null,
   "id": "a4b31283",
   "metadata": {},
   "outputs": [],
   "source": [
    "# Two methods of identifying outliers are presented: one graphically and another statistically."
   ]
  },
  {
   "cell_type": "markdown",
   "id": "e57ee606",
   "metadata": {},
   "source": [
    "#### 2.4.1 Detecting outliers graphically"
   ]
  },
  {
   "cell_type": "code",
   "execution_count": null,
   "id": "df74c523",
   "metadata": {},
   "outputs": [],
   "source": [
    "# The ggplot2 library  has the function geom_boxplot, which returns a plot of the distribution of the data\n",
    "# depicting: the median; the first, and third quartiles; and the whiskers. The whiskers represent the upper \n",
    "# and lower limits, which are equal to the maximum and minimum values of the data, respectively, if there are no \n",
    "# outliers. If there are outliers the whiskers are equal to the upper and lower reference values. Outliers are represented \n",
    "# as points above or below the whiskers.\n",
    "\n",
    "# Boxplot\n",
    "# Age's boxplot\n",
    "par(mfrow = c(1, 2))\n",
    "#create one horizontal boxplot\n",
    "\n",
    "#create several horizontal boxplots by group\n",
    "# text label position\n",
    "abp=c(min(composition$age),median(composition$age)-2,max(composition$age))\n",
    "# text label\n",
    "ab=c(min(composition$age),median(composition$age),max(composition$age))\n",
    "# text label position\n",
    "fbp=c(min(composition$fat),median(composition$fat)-2,max(composition$fat))\n",
    "# text label\n",
    "fb=c(min(composition$fat),median(composition$fat),max(composition$fat))\n",
    "\n",
    "# age boxplot\n",
    "plot1<-ggplot(composition, aes(y=age))+\n",
    "        geom_boxplot(fill='lightblue', color=\"black\") + #boxplot border and filling colors\n",
    "        coord_flip()+ # flip position of axis \n",
    "        ggtitle('Boxplot of age')+ # Include a title\n",
    "        theme(plot.title = element_text(hjust = 0.5), # size of the title text \n",
    "              panel.background = element_blank(), # remove panel background\n",
    "              axis.text.x=element_blank(), # remove x axis text\n",
    "              axis.ticks.x=element_blank(), # remove x axis ticks\n",
    "              axis.text.y=element_blank(), # remove y axis text\n",
    "              axis.ticks.y=element_blank(), # remove y axis ticks\n",
    "              axis.title.y = element_blank(), # remove y axis title\n",
    "              aspect.ratio = 0.5\n",
    "             )+\n",
    "        geom_text(data=data.frame(), \n",
    "                  aes(x=c(0.05,0.05,0.05),\n",
    "                      y=abp, label=ab), \n",
    "                  col='black', size=3)# insert text in the plot \n",
    "\n",
    "# fat boxplot\n",
    "plot2 <- ggplot(composition, aes(y=fat)) + \n",
    "          geom_boxplot(fill='lightgreen', color=\"black\") + #boxplot border and filling colors\n",
    "          coord_flip()+ggtitle('Boxplot of fat')+ # flip position of axis \n",
    "          theme(plot.title = element_text(hjust = 0.5), # size of the title text \n",
    "                panel.background = element_blank(), # remove panel background\n",
    "                axis.text.x=element_blank(), # remove x axis text\n",
    "                axis.ticks.x=element_blank(),# remove x axis ticks\n",
    "                axis.text.y=element_blank(), # remove y axis text\n",
    "                axis.ticks.y=element_blank(), # remove y axis ticks\n",
    "                axis.title.y = element_blank(), # remove y axis title\n",
    "                aspect.ratio = 0.5\n",
    "               )+\n",
    "            geom_text(data=data.frame(), \n",
    "                      aes(x=c(0.05,0.05,0.05), \n",
    "                          y=fbp, label=fb), \n",
    "                      col='black', size=3)#inser text in the plot\n",
    "\n",
    "grid.arrange(plot1, plot2,\n",
    "             widths =c(1, 1) , \n",
    "             heights=c(1), ncol=2, nrow=1)"
   ]
  },
  {
   "cell_type": "code",
   "execution_count": null,
   "id": "aca9532e",
   "metadata": {},
   "outputs": [],
   "source": [
    "# As shown in the previous plot, the 'age' variable doesn't contain outliers, \n",
    "# as there are no points above or below the whiskers. \n",
    "# The whiskers for the 'age' variable are set at 61 and 23, with a median value of 49.\n",
    "\n",
    "# The 'fat' variable doesn't contain outliers\n",
    "# since there are not points above or below the whiskers.\n",
    "# The 'fat' variable whiskers are set at 42 and 7.8, and the median value is 29.1."
   ]
  },
  {
   "cell_type": "code",
   "execution_count": null,
   "id": "dc14e1a5",
   "metadata": {},
   "outputs": [],
   "source": [
    "# Histogram\n",
    "# The function geom_histogram of the library ggplot2 plots a histogram\n",
    "\n",
    "plot1<-ggplot(composition, aes(x=age)) + \n",
    "  geom_histogram(color=\"black\", fill=\"lightblue\")+ #histogram's border and filling colors\n",
    "  theme(plot.title = element_text(hjust = 0.5), #size of the title text \n",
    "        panel.background = element_blank(), # remove panel background\n",
    "        axis.text.x=element_blank(), # remove the text of the x axis\n",
    "        axis.ticks.x=element_blank(),# remove ticks of the x axis\n",
    "        #axis.text.y=element_blank(), \n",
    "        axis.ticks.y=element_blank(),# remove ticks of the y axis\n",
    "        axis.title.y = element_blank(), # remove title of the y axis\n",
    "        aspect.ratio = 0.5\n",
    "  )\n",
    "\n",
    "plot2<-ggplot(composition, aes(x=fat)) + \n",
    "  geom_histogram(color=\"black\", fill=\"lightgreen\")+#histogram's border and filling colors\n",
    "  theme(plot.title = element_text(hjust = 0.5),#size of the title text\n",
    "        panel.background = element_blank(), # remove panel background\n",
    "        axis.text.x=element_blank(), # remove the text of the x axis\n",
    "        axis.ticks.x=element_blank(), # remove ticks of the x axis\n",
    "        #axis.text.y=element_blank(), \n",
    "        axis.ticks.y=element_blank(),# remove ticks of the y axis\n",
    "        axis.title.y = element_blank(),# remove title of the y axis\n",
    "        aspect.ratio = 0.5\n",
    "  )\n",
    "\n",
    "grid.arrange(plot1, plot2,\n",
    "             widths =c(1, 1) , \n",
    "             heights=c(1), ncol=2, nrow=1)"
   ]
  },
  {
   "cell_type": "code",
   "execution_count": null,
   "id": "15c5c888",
   "metadata": {},
   "outputs": [],
   "source": [
    "# As shown in the 'age' histogram, there are no values considerably separated from the majority of the data.\n",
    "# There are no outliers in the 'age' variable.\n",
    "# Similarly, in the histogram for the 'fat' variable, there are no values considerably separated from the \n",
    "# majority of the data. There are no outliers in the 'fat' variable."
   ]
  },
  {
   "cell_type": "code",
   "execution_count": null,
   "id": "2a5215e4",
   "metadata": {},
   "outputs": [],
   "source": [
    "#2.4.2 Statistically\n",
    "\n",
    "# Interquartile range\n",
    "\n",
    "# The interquartile range - IQR includes 50% of the data, \n",
    "# which is in the middle of the distribution. It spans between the first and third quartiles, \n",
    "# and is used to estimate upper and lower reference values. The values above \n",
    "# or below these reference values are considered as outliers.\n"
   ]
  },
  {
   "cell_type": "code",
   "execution_count": null,
   "id": "c7a8e883",
   "metadata": {},
   "outputs": [],
   "source": [
    "# \"age\" variable outliers\n",
    "# IQR of the age variable\n",
    "# First, obtain the appropriate quartiles.\n",
    "# Use the quantile() function.\n",
    "quantile(composition$age)\n",
    "# First quartile\n",
    "percentile25=quantile(composition$age)[2]\n",
    "# Third quartile\n",
    "percentile75=quantile(composition$age)[4]\n",
    "print(paste(\"First quartile: \",percentile25))\n",
    "print(paste(\"Third quartile: \",percentile75))"
   ]
  },
  {
   "cell_type": "code",
   "execution_count": null,
   "id": "6c27339c",
   "metadata": {},
   "outputs": [],
   "source": [
    "# Estimate the interquartile range by subtracting the first quartile from the third quartile:\n",
    "iqr=percentile75-percentile25\n",
    "print(paste(\"The interquartile range is: \", iqr))"
   ]
  },
  {
   "cell_type": "code",
   "execution_count": null,
   "id": "bc25c2d2",
   "metadata": {},
   "outputs": [],
   "source": [
    "# Estimate the uppper and lower reference values.\n",
    "# The upper reference value is equal to the sum of the third quartile and 1.5 times the interquartile range.\n",
    "upper_limit = percentile75 + 1.5 * iqr\n",
    "# To estimate the lower reference, subtract 1.5 times the interquartile range from the first quartile.\n",
    "lower_limit = percentile25 - 1.5 * iqr\n",
    "print(paste(\"The upper reference value is: \", upper_limit))\n",
    "print(paste(\"The lower reference value is: \",lower_limit))"
   ]
  },
  {
   "cell_type": "code",
   "execution_count": null,
   "id": "f9cf67b3",
   "metadata": {},
   "outputs": [],
   "source": [
    "# Detecting outliers involves identifying values that fall outside the reference range, \n",
    "# either above or below the reference values.\n",
    "print('Age series outliers above the upper reference value:')\n",
    "print(composition$age[composition$age > upper_limit])\n",
    "print('Age series outliers below the lower reference value:')\n",
    "print(composition$age[composition$age < lower_limit])"
   ]
  },
  {
   "cell_type": "code",
   "execution_count": null,
   "id": "b226a718",
   "metadata": {},
   "outputs": [],
   "source": [
    "# \"fat\" variable outliers\n",
    "# IQR fat variable\n",
    "# First, obtain the appropriate quartiles.\n",
    "# Use the quantile() function.\n",
    "quantile(composition$fat)\n",
    "# First quartile\n",
    "percentile25=quantile(composition$fat)[2]\n",
    "# Third quartile\n",
    "percentile75=quantile(composition$fat)[4]\n",
    "print(paste(\"First quartile: \",percentile25))\n",
    "print(paste(\"Third quartile: \",percentile75))"
   ]
  },
  {
   "cell_type": "code",
   "execution_count": null,
   "id": "d95c9475",
   "metadata": {},
   "outputs": [],
   "source": [
    "# Estimate the interquartile range by subtracting the first quartile from the third quartile:\n",
    "iqr=percentile75-percentile25\n",
    "print(paste(\"The interquartile range is: \", iqr))"
   ]
  },
  {
   "cell_type": "code",
   "execution_count": null,
   "id": "5200b84d",
   "metadata": {},
   "outputs": [],
   "source": [
    "# Estimate the uppper and lower reference values\n",
    "# The upper reference value is equal to the sum of the third quartile and 1.5 times the interquartile range.\n",
    "upper_limit = percentile75 + 1.5 * iqr\n",
    "# To estimate the lower reference, subtract 1.5 times the interquartile range from the first quartile.\n",
    "lower_limit = percentile25 - 1.5 * iqr\n",
    "print(paste(\"The upper reference value is: \", upper_limit))\n",
    "print(paste(\"The lower reference value is: \",lower_limit))"
   ]
  },
  {
   "cell_type": "code",
   "execution_count": null,
   "id": "22595523",
   "metadata": {},
   "outputs": [],
   "source": [
    "# Detecting outliers involves identifying values that fall outside the reference range, \n",
    "# either above or below the reference values.\n",
    "print('Fat series outliers above the upper reference value:')\n",
    "print(composition$fat[composition$fat > upper_limit])\n",
    "print('Fat series outliers below the lower reference value:')\n",
    "print(composition$fat[composition$fat < lower_limit])"
   ]
  },
  {
   "cell_type": "markdown",
   "id": "e84165ac",
   "metadata": {},
   "source": [
    "### 3. Analyzing the data set "
   ]
  },
  {
   "cell_type": "code",
   "execution_count": null,
   "id": "c54acc92",
   "metadata": {},
   "outputs": [],
   "source": [
    "# 3.1. Descriptive statistics \n",
    "# The function summary returns the minimum, maximum, median, mean, first quantile, third quantile.\n",
    "summary(composition)"
   ]
  },
  {
   "cell_type": "code",
   "execution_count": null,
   "id": "b692861d",
   "metadata": {},
   "outputs": [],
   "source": [
    "# 3.2. Correlation matrix \n",
    "# The function cor returns a matrix of correlations among variables.\n",
    "# In this example, the correlation among the variables is positive and equal to 0.66\n",
    "round(cor(composition),2)"
   ]
  },
  {
   "cell_type": "code",
   "execution_count": null,
   "id": "3b0acf46",
   "metadata": {
    "scrolled": true
   },
   "outputs": [],
   "source": [
    "# 3.3. Plotting the variables \n",
    "# A grid of three plots is created, a scatter plot and two histograms, one for \n",
    "# for each variable of the scatter plot. \n",
    "\n",
    "# Age histogram plot\n",
    "plot1<-ggplot(composition, aes(x=age)) + \n",
    "  geom_histogram(color=\"black\", fill=\"lightblue\")+# histogram's border and filling colors\n",
    "  theme(plot.title = element_text(hjust = 0.5),#size of the title text\n",
    "        panel.background = element_blank(),# remove panel background\n",
    "        axis.text.x=element_blank(), # remove the text of the x axis\n",
    "        axis.ticks.x=element_blank(), #remove the ticks of the x axis\n",
    "        #axis.text.y=element_blank(), \n",
    "        axis.ticks.y=element_blank(),# remove the ticks of the y axis\n",
    "        axis.title.y = element_blank(),# remove the title of the y axis\n",
    "        axis.title = element_blank(), # remove the title of the plot\n",
    "        aspect.ratio = 0.5\n",
    "  )\n",
    "\n",
    "# Fat histogram plot\n",
    "plot2<-ggplot(composition, aes(x=fat)) + \n",
    "  geom_histogram(color=\"black\", fill=\"lightgreen\")+ # histogram's border and filling colors\n",
    "  theme(plot.title = element_text(hjust = 0.5), #size of the title text\n",
    "        panel.background = element_blank(),# remove panel background\n",
    "        #axis.text.x=element_blank(), \n",
    "        axis.ticks.x=element_blank(),# remove the ticks of the x axis\n",
    "        axis.text.y=element_blank(), # remove the text of the y axis\n",
    "        axis.ticks.y=element_blank(), # remove the ticks of the y axis\n",
    "        axis.title.y = element_blank(), # remove the title of the y axis\n",
    "        aspect.ratio = 1,\n",
    "        axis.title = element_blank()# remove the title of the plot\n",
    "  )+\n",
    "  coord_flip()+scale_y_reverse()\n",
    "\n",
    "# Fat- age scatter plot\n",
    "plot3<-ggplot(composition, aes(x=age, y=fat)) +\n",
    "  geom_point(size=2, shape=23)\n",
    "\n",
    "plot4<-ggplot() + theme(panel.background = element_blank())\n",
    "\n",
    "design <- \"\n",
    "  444222222\n",
    "  444222222\n",
    "  111333333\n",
    "  111333333\n",
    "\"\n",
    "# Plot grid \n",
    "plot2 +plot1 + plot3 +plot4+ plot_layout(design = design)"
   ]
  },
  {
   "cell_type": "markdown",
   "id": "33ea9af1",
   "metadata": {},
   "source": [
    "### 4. Regression estimation"
   ]
  },
  {
   "cell_type": "code",
   "execution_count": null,
   "id": "3f0829b9",
   "metadata": {},
   "outputs": [],
   "source": [
    "# The function lm is used to fit linear models. It can be used to carry out regressions, \n",
    "# single stratum analysis of variance and analysis of covariance.\n",
    "\n",
    "model<-lm(fat~age,data=composition)\n",
    "summary(model)"
   ]
  },
  {
   "cell_type": "code",
   "execution_count": null,
   "id": "e8037d88",
   "metadata": {},
   "outputs": [],
   "source": [
    "# Estimating the log likelihood\n",
    "# Returns the natural logarithm of the likelihood. It measures a model's goodness of fit.\n",
    "# Uses the library(stats)\n",
    "logLik(model)"
   ]
  },
  {
   "cell_type": "code",
   "execution_count": null,
   "id": "256b12fd",
   "metadata": {},
   "outputs": [],
   "source": [
    "# Estimating the Akaike Information Criterion - AIC \n",
    "# Method to estimate how well a model fits the data.\n",
    "AIC(model)"
   ]
  },
  {
   "cell_type": "code",
   "execution_count": null,
   "id": "9425ba11",
   "metadata": {},
   "outputs": [],
   "source": [
    "# Estimating the Bayesian Information Criterion-BIC \n",
    "#  Method for model scoring and selection\n",
    "BIC(model)"
   ]
  },
  {
   "cell_type": "code",
   "execution_count": null,
   "id": "f5318c39",
   "metadata": {},
   "outputs": [],
   "source": [
    "# ANOVA\n",
    "# Compute analysis of variance (or deviance) tables for one or more fitted model objects.\n",
    "anova(model)"
   ]
  },
  {
   "cell_type": "code",
   "execution_count": null,
   "id": "145218a3",
   "metadata": {},
   "outputs": [],
   "source": [
    "# Normality of residuals\n",
    "# Normal distributions are symmetric about the mean, and data near the mean are more frequent.\n",
    "# Skewness measures the symmetry of the residuals.\n",
    "# A skewness value equal to 0 implies perfect symmetry. \n",
    "# A positive or negative value implies that the residuals are skewed to the right or left, accordingly.\n",
    "# Use library(cumstats)\n",
    "skewness(model$residuals)"
   ]
  },
  {
   "cell_type": "code",
   "execution_count": null,
   "id": "891069a8",
   "metadata": {},
   "outputs": [],
   "source": [
    "# Kurtosis measures the thickness of the tails of a distribution\n",
    "#  A normal distribution has a kurtosis of 3\n",
    "# Use library(cumstats) \n",
    "kurtosis(model$residuals)"
   ]
  },
  {
   "cell_type": "code",
   "execution_count": null,
   "id": "752ce964",
   "metadata": {},
   "outputs": [],
   "source": [
    "# Jarque-Bera Test \n",
    "# Tests for skewness and Kurtosis\n",
    "# Null Hypothesis: Skewness and Kurtosis are equal to zero and three, accordingly.\n",
    "# In this example, the p value is 0.874, the null hipothesis is not rejected. The residuals are \n",
    "# normally distributed.\n",
    "# library(fBasics)\n",
    "jarqueberaTest(model$resid)"
   ]
  },
  {
   "cell_type": "code",
   "execution_count": null,
   "id": "429dda0a",
   "metadata": {},
   "outputs": [],
   "source": [
    "# Durbin Watson test\n",
    "# Test for independence of residuals\n",
    "# Null hypothesis: Errors are serially uncorrelated\n",
    "# In this example, the p-value is 0.57. The null hypothesis is not rejected.\n",
    "# library(lmtest)\n",
    "dwtest(model) "
   ]
  },
  {
   "cell_type": "markdown",
   "id": "a7fe4293",
   "metadata": {},
   "source": [
    "### 5. Heteroskedasticity tests"
   ]
  },
  {
   "cell_type": "code",
   "execution_count": null,
   "id": "6a70eb39",
   "metadata": {},
   "outputs": [],
   "source": [
    "# white_test \n",
    "# This function performs a White’s Test for heteroskedasticity.\n",
    "# It takes as arguments the regression model. \n",
    "# Use library(whitestrap)\n",
    "\n",
    "white_test(model)\n",
    "attach(composition)\n",
    "#par(mar = c(8, 8, 4, 4))\n"
   ]
  },
  {
   "cell_type": "code",
   "execution_count": null,
   "id": "62ab36c9",
   "metadata": {},
   "outputs": [],
   "source": [
    "# Scatter plot to perform a heteroskedasticity analysis.\n",
    "# Define the regression\n",
    "\n",
    "# plot the regression\n",
    "p1 <- composition %>% \n",
    "  ggplot(aes(x = age, y = fat)) +\n",
    "  geom_point(colour = \"#0000cc\") +\n",
    "  geom_smooth(method = \"lm\", se = TRUE, colour='#00cc00') +\n",
    "  labs(title = \"Simple Linear Regression\") +\n",
    "  theme_bw() +\n",
    "  theme(plot.title = element_text(face = \"bold\",hjust = 0.5, size = 26, colour='#00A300'),\n",
    "        panel.grid.major = element_blank(), \n",
    "        panel.grid.minor = element_blank(),\n",
    "        panel.border = element_blank(),\n",
    "        axis.text = element_text(size = 16, colour = '#0000cc'),\n",
    "        axis.title.x = element_text(size = 22, colour = '#00A300'),\n",
    "        axis.title.y = element_text(size=22, colour = '#00A300'),\n",
    "        axis.ticks = element_blank()\n",
    "        )+\n",
    "  labs(x='Age - years',\n",
    "       y='Fat percentage')\n",
    "\n",
    "p1"
   ]
  },
  {
   "cell_type": "code",
   "execution_count": null,
   "id": "ccd0fac5",
   "metadata": {},
   "outputs": [],
   "source": [
    "# As depicted in the plot, the residuals exhibit a similar distribution along the years range."
   ]
  },
  {
   "cell_type": "markdown",
   "id": "a8bd3ef3",
   "metadata": {},
   "source": [
    "### Hypothesis testing"
   ]
  },
  {
   "cell_type": "code",
   "execution_count": null,
   "id": "456855ad",
   "metadata": {},
   "outputs": [],
   "source": [
    "# To perform hypothesis tests use the function linearHypothesis."
   ]
  },
  {
   "cell_type": "code",
   "execution_count": null,
   "id": "cf80bbaa",
   "metadata": {},
   "outputs": [],
   "source": [
    "# Hypothesis test: The intercept is equal to the coefficient of the variable age.\n",
    "linearHypothesis(model, c(\"(Intercept)=age\"))"
   ]
  },
  {
   "cell_type": "code",
   "execution_count": null,
   "id": "b35127ea",
   "metadata": {},
   "outputs": [],
   "source": [
    "# Hypothesis test: the coefficient of the variable age is equal to zero.\n",
    "linearHypothesis(model, c(\"age=0\"))"
   ]
  },
  {
   "cell_type": "code",
   "execution_count": null,
   "id": "5ba61720",
   "metadata": {},
   "outputs": [],
   "source": [
    "# Hypothesis test: the coefficient of the variable age is equal to zero.\n",
    "# Using an alternative sintaxis. Notice the first vector, c(\"age\") , contains the variable name \n",
    "# and the second, c(0),the value to which the variable is set.\n",
    "linearHypothesis(model, c(\"age\"),c(0))"
   ]
  },
  {
   "cell_type": "code",
   "execution_count": null,
   "id": "a61a9c80",
   "metadata": {},
   "outputs": [],
   "source": [
    "# Hypothesis test: the intercept is equal to 10 and the coefficient of the variable age is equal to 0.\n",
    "linearHypothesis(model, c(\"age=0\",\"(Intercept)=10\"))"
   ]
  },
  {
   "cell_type": "code",
   "execution_count": null,
   "id": "e961e087",
   "metadata": {},
   "outputs": [],
   "source": [
    "# Hypothesis test: the intercept is equal to 10 and the coefficient of the variable \n",
    "# age is equal to 0.\n",
    "# Using an alternative sintaxis. Notice the first vector,c(\"age\",\"(Intercept)\"), contains the\n",
    "# variables names and the second, c(0,10) ,the values to which \n",
    "# these variables are set.\n",
    "linearHypothesis(model, c(\"age\",\"(Intercept)\"),c(0,10))"
   ]
  },
  {
   "cell_type": "code",
   "execution_count": null,
   "id": "66ea65b9",
   "metadata": {},
   "outputs": [],
   "source": [
    "# Hypothesis test: the intercept is equal to the coefficient of the variable age and this one equal to 1.\n",
    "linearHypothesis(model, c(\"age=1\",\"(Intercept)=1\"))"
   ]
  },
  {
   "cell_type": "code",
   "execution_count": null,
   "id": "b613cbde",
   "metadata": {},
   "outputs": [],
   "source": [
    "# Hypothesis test: the intercept is equal to the coefficient of the variable age and this one equal to 1.\n",
    "# Using an alternative sintaxis. Notice the first vector,c(\"age\",\"(Intercept)\"), contains the\n",
    "# variables names and the second, c(1,1) , the values to which \n",
    "# these variables are set.\n",
    "linearHypothesis(model, c(\"age\",\"(Intercept)\"),c(1,1))"
   ]
  }
 ],
 "metadata": {
  "kernelspec": {
   "display_name": "R",
   "language": "R",
   "name": "ir"
  },
  "language_info": {
   "codemirror_mode": "r",
   "file_extension": ".r",
   "mimetype": "text/x-r-source",
   "name": "R",
   "pygments_lexer": "r",
   "version": "3.6.1"
  }
 },
 "nbformat": 4,
 "nbformat_minor": 5
}
